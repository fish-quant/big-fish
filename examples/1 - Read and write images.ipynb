{
 "cells": [
  {
   "cell_type": "markdown",
   "metadata": {
    "deletable": false,
    "editable": false,
    "run_control": {
     "frozen": true
    }
   },
   "source": [
    "# Read and write images"
   ]
  },
  {
   "cell_type": "code",
   "execution_count": 2,
   "metadata": {
    "ExecuteTime": {
     "end_time": "2020-05-04T11:04:34.101850Z",
     "start_time": "2020-05-04T11:04:33.224195Z"
    },
    "deletable": false,
    "editable": false,
    "run_control": {
     "frozen": true
    }
   },
   "outputs": [],
   "source": [
    "import os\n",
    "import bigfish.stack as stack"
   ]
  },
  {
   "cell_type": "code",
   "execution_count": 3,
   "metadata": {
    "ExecuteTime": {
     "end_time": "2020-05-04T11:04:34.105879Z",
     "start_time": "2020-05-04T11:04:34.103753Z"
    },
    "deletable": false,
    "editable": false,
    "run_control": {
     "frozen": true
    }
   },
   "outputs": [],
   "source": [
    "# hard-code the paths of our input and output directories\n",
    "path_input = \"../data/input\"\n",
    "path_output = \"../data/output\""
   ]
  },
  {
   "cell_type": "markdown",
   "metadata": {
    "deletable": false,
    "editable": false,
    "run_control": {
     "frozen": true
    }
   },
   "source": [
    "During a typical **Fluorescence In Situ Hybridization (FISH)** experiment several multichannel 2D or 3D images are acquired. This notebook shows how to organize and read these images. For some more advanced techniques permitting multiplexed RNA detection, several independent acquisitions rounds are acquired for each position. This means, that we will work with a maximum of 5 dimensions:  \n",
    "- one dimension r for the hybridization **rounds**\n",
    "- one dimension c for the **channesl**\n",
    "- three **spatial** dimensions z,y and x\n",
    "\n",
    "In big-fish, we described images thus as 5D tensors at the most. However, most of the analysis are applied at the channel level, i.e. directly on the 3D or 2D images."
   ]
  },
  {
   "cell_type": "markdown",
   "metadata": {
    "deletable": false,
    "editable": false,
    "run_control": {
     "frozen": true
    }
   },
   "source": [
    "## Experiment, fields of view and recipes"
   ]
  },
  {
   "cell_type": "markdown",
   "metadata": {
    "deletable": false,
    "editable": false,
    "run_control": {
     "frozen": true
    }
   },
   "source": [
    "We use **experiment** to describe one experimental condition that is imaged. Typically, several **fields of view (FoV)** are then acquired per **experiment**. All images from the same experiment have to be in the same input directory. Images of each fov and channel are stored separately either as 3D or 2D images. Furhter, each iamge should have appropriate name including information about the experiment, the fov, the channel and the round.\n",
    "\n",
    "To load these images with big-fish, **we define recipes that describe how all relevant information about the image can be inferred from its name**. "
   ]
  },
  {
   "cell_type": "code",
   "execution_count": 4,
   "metadata": {
    "ExecuteTime": {
     "end_time": "2020-05-04T11:04:34.117551Z",
     "start_time": "2020-05-04T11:04:34.107835Z"
    },
    "deletable": false,
    "editable": false,
    "run_control": {
     "frozen": true
    }
   },
   "outputs": [
    {
     "output_type": "execute_result",
     "data": {
      "text/plain": "['.gitignore']"
     },
     "metadata": {},
     "execution_count": 4
    }
   ],
   "source": [
    "os.listdir(path_input)"
   ]
  },
  {
   "cell_type": "markdown",
   "metadata": {
    "deletable": false,
    "editable": false,
    "run_control": {
     "frozen": true
    }
   },
   "source": [
    "For example, in the input directory two 3D images correspondig to two channels (dapi and FISH) from the same fov and the same experiment are present. In order, to read these images with big-fish, we have to define the appropriate recipe:"
   ]
  },
  {
   "cell_type": "code",
   "execution_count": 4,
   "metadata": {
    "ExecuteTime": {
     "end_time": "2020-05-04T11:04:34.122744Z",
     "start_time": "2020-05-04T11:04:34.119973Z"
    },
    "deletable": false,
    "editable": false,
    "run_control": {
     "frozen": true
    }
   },
   "outputs": [],
   "source": [
    "recipe = {\n",
    "    \"fov\": \"fov_1\",\n",
    "    \"c\": [\"dapi\", \"smfish\"],\n",
    "    \"opt\": \"experiment_1\",\n",
    "    \"ext\": \"tif\",\n",
    "    \"pattern\": \"opt_c_fov.ext\"}"
   ]
  },
  {
   "cell_type": "markdown",
   "metadata": {
    "deletable": false,
    "editable": false,
    "run_control": {
     "frozen": true
    }
   },
   "source": [
    "In this recipe, we specify different **keys**:\n",
    "- the **fov** (*fov_1*) shared by the two files\n",
    "- an **optional term** (*experiment_1*) shared by the two files\n",
    "- a list of keys to distinguish the different **channels** (*dapi* and *smfish*)\n",
    "- the **extension** name (*tif*) shared by the two files\n",
    "- `**general pattern** of the filenames (*opt_c_fov.ext* as a template for *experiment_1_{c}\\_fov_1.tif*)\n",
    "\n",
    "We can use the elements provided in the recipe to recognize the filenames of the different files, read them and gather them accordingly in order to build a 5D image: **(round, channel, z, y, x)**."
   ]
  },
  {
   "cell_type": "code",
   "execution_count": 1,
   "metadata": {
    "ExecuteTime": {
     "end_time": "2020-05-04T11:04:34.128715Z",
     "start_time": "2020-05-04T11:04:34.125033Z"
    },
    "deletable": false,
    "editable": false,
    "run_control": {
     "frozen": true
    }
   },
   "outputs": [
    {
     "output_type": "error",
     "ename": "NameError",
     "evalue": "name 'stack' is not defined",
     "traceback": [
      "\u001b[1;31m---------------------------------------------------------------------------\u001b[0m",
      "\u001b[1;31mNameError\u001b[0m                                 Traceback (most recent call last)",
      "\u001b[1;32m<ipython-input-1-07fc0608cabd>\u001b[0m in \u001b[0;36m<module>\u001b[1;34m\u001b[0m\n\u001b[0;32m      1\u001b[0m \u001b[1;31m# function to check if your recipe is correctly defined and files actually exist\u001b[0m\u001b[1;33m\u001b[0m\u001b[1;33m\u001b[0m\u001b[1;33m\u001b[0m\u001b[0m\n\u001b[1;32m----> 2\u001b[1;33m \u001b[0mstack\u001b[0m\u001b[1;33m.\u001b[0m\u001b[0mcheck_recipe\u001b[0m\u001b[1;33m(\u001b[0m\u001b[0mrecipe\u001b[0m\u001b[1;33m,\u001b[0m \u001b[0mdata_directory\u001b[0m\u001b[1;33m=\u001b[0m\u001b[0mpath_input\u001b[0m\u001b[1;33m)\u001b[0m\u001b[1;33m\u001b[0m\u001b[1;33m\u001b[0m\u001b[0m\n\u001b[0m",
      "\u001b[1;31mNameError\u001b[0m: name 'stack' is not defined"
     ]
    }
   ],
   "source": [
    "# function to check if your recipe is correctly defined and files actually exist\n",
    "stack.check_recipe(recipe, data_directory=path_input)"
   ]
  },
  {
   "cell_type": "markdown",
   "metadata": {
    "deletable": false,
    "editable": false,
    "run_control": {
     "frozen": true
    }
   },
   "source": [
    "__Note 1:__ A recipe can take into account others elements. The general pattern excepted, these elements are all optional and depend of the filenames we want to recognize. If a 3D image is decomposed in 2D layers, a __z__ key would be necessary in order to correctly stack the 2D images along the z axis (in the right order). The same logic happens if we want to stack layers from different rounds to build our final image, with a **r** key.\n",
    "\n",
    "    {\n",
    "    \"fov\": str or List[str], (optional)\n",
    "    \"z\": str or List[str],   (optional)\n",
    "    \"c\": str or List[str],   (optional)\n",
    "    \"r\": str or List[str],   (optional)\n",
    "    \"ext\": str,              (optional)\n",
    "    \"opt\": str,              (optional)\n",
    "    \"pattern\": str\n",
    "    }\n",
    "    \n",
    "__Note 2:__ If you have a large number of images to read, keeping the same template to name your files will simplify your life."
   ]
  },
  {
   "cell_type": "markdown",
   "metadata": {
    "deletable": false,
    "editable": false,
    "run_control": {
     "frozen": true
    }
   },
   "source": [
    "### Build a multichannel image with a recipe"
   ]
  },
  {
   "cell_type": "code",
   "execution_count": 6,
   "metadata": {
    "ExecuteTime": {
     "end_time": "2020-05-04T11:04:34.210448Z",
     "start_time": "2020-05-04T11:04:34.130118Z"
    },
    "deletable": false,
    "editable": false,
    "run_control": {
     "frozen": true
    }
   },
   "outputs": [
    {
     "name": "stdout",
     "output_type": "stream",
     "text": [
      "\r",
      " shape: (1, 2, 23, 650, 500)\n",
      "\r",
      " dtype: uint16\n"
     ]
    }
   ],
   "source": [
    "image = stack.build_stack(recipe, input_folder=path_input) \n",
    "print(\"\\r shape: {0}\".format(image.shape))\n",
    "print(\"\\r dtype: {0}\".format(image.dtype))"
   ]
  },
  {
   "cell_type": "markdown",
   "metadata": {
    "ExecuteTime": {
     "end_time": "2020-03-04T11:22:19.878026Z",
     "start_time": "2020-03-04T11:22:19.875311Z"
    },
    "deletable": false,
    "editable": false,
    "run_control": {
     "frozen": true
    }
   },
   "source": [
    "As expected, we return a 3D image with 1 round and 2 channels. "
   ]
  },
  {
   "cell_type": "markdown",
   "metadata": {
    "deletable": false,
    "editable": false,
    "run_control": {
     "frozen": true
    }
   },
   "source": [
    "### Build several multichannel images with recipes"
   ]
  },
  {
   "cell_type": "markdown",
   "metadata": {
    "deletable": false,
    "editable": false,
    "run_control": {
     "frozen": true
    }
   },
   "source": [
    "If we want to read several multichannel images, we can define a **generator** (files are read and image is build only when it is called). The first step consists in **mapping different recipes with their relative input directory**:"
   ]
  },
  {
   "cell_type": "code",
   "execution_count": 7,
   "metadata": {
    "ExecuteTime": {
     "end_time": "2020-05-04T11:04:34.218092Z",
     "start_time": "2020-05-04T11:04:34.211913Z"
    },
    "deletable": false,
    "editable": false,
    "run_control": {
     "frozen": true
    }
   },
   "outputs": [
    {
     "data": {
      "text/plain": [
       "True"
      ]
     },
     "execution_count": 7,
     "metadata": {},
     "output_type": "execute_result"
    }
   ],
   "source": [
    "# as an example, we just duplicate the same recipe\n",
    "data_map = [\n",
    "    (recipe, path_input),\n",
    "    (recipe, path_input),\n",
    "    (recipe, path_input),\n",
    "]\n",
    "\n",
    "# function to check if your mapping (recipe, input directory) is correct\n",
    "stack.check_datamap(data_map)"
   ]
  },
  {
   "cell_type": "code",
   "execution_count": 8,
   "metadata": {
    "ExecuteTime": {
     "end_time": "2020-05-04T11:04:34.365001Z",
     "start_time": "2020-05-04T11:04:34.219826Z"
    },
    "deletable": false,
    "editable": false,
    "run_control": {
     "frozen": true
    }
   },
   "outputs": [
    {
     "name": "stdout",
     "output_type": "stream",
     "text": [
      "Image 0\n",
      "\r",
      " shape: (1, 2, 23, 650, 500)\n",
      "\r",
      " dtype: uint16\n",
      "Image 1\n",
      "\r",
      " shape: (1, 2, 23, 650, 500)\n",
      "\r",
      " dtype: uint16\n",
      "Image 2\n",
      "\r",
      " shape: (1, 2, 23, 650, 500)\n",
      "\r",
      " dtype: uint16\n"
     ]
    }
   ],
   "source": [
    "image_generator = stack.build_stacks(data_map)\n",
    "for i, image in enumerate(image_generator):\n",
    "    print(\"Image {0}\".format(i))\n",
    "    print(\"\\r shape: {0}\".format(image.shape))\n",
    "    print(\"\\r dtype: {0}\".format(image.dtype))"
   ]
  },
  {
   "cell_type": "markdown",
   "metadata": {
    "deletable": false,
    "editable": false,
    "run_control": {
     "frozen": true
    }
   },
   "source": [
    "__Note:__ A generator can be used to read several images from the same recipe if you provide several FoV in this recipe."
   ]
  },
  {
   "cell_type": "code",
   "execution_count": 9,
   "metadata": {
    "ExecuteTime": {
     "end_time": "2020-05-04T11:04:34.458729Z",
     "start_time": "2020-05-04T11:04:34.366569Z"
    },
    "deletable": false,
    "editable": false,
    "run_control": {
     "frozen": true
    }
   },
   "outputs": [
    {
     "name": "stdout",
     "output_type": "stream",
     "text": [
      "Image 0\n",
      "\r",
      " shape: (1, 2, 23, 650, 500)\n",
      "\r",
      " dtype: uint16\n",
      "Image 1\n",
      "\r",
      " shape: (1, 2, 23, 650, 500)\n",
      "\r",
      " dtype: uint16\n"
     ]
    }
   ],
   "source": [
    "recipe = {\n",
    "    \"fov\": [\"fov_1\", \"fov_1\"],\n",
    "    \"c\": [\"dapi\", \"smfish\"],\n",
    "    \"opt\": \"experiment_1\",\n",
    "    \"ext\": \"tif\",\n",
    "    \"pattern\": \"opt_c_fov.ext\"}\n",
    "data_map = [(recipe, path_input)]\n",
    "image_generator = stack.build_stacks(data_map)\n",
    "for i, image in enumerate(image_generator):\n",
    "    print(\"Image {0}\".format(i))\n",
    "    print(\"\\r shape: {0}\".format(image.shape))\n",
    "    print(\"\\r dtype: {0}\".format(image.dtype))"
   ]
  },
  {
   "cell_type": "markdown",
   "metadata": {
    "deletable": false,
    "editable": false,
    "run_control": {
     "frozen": true
    }
   },
   "source": [
    "### Build a multichannel image without recipe"
   ]
  },
  {
   "cell_type": "markdown",
   "metadata": {
    "deletable": false,
    "editable": false,
    "run_control": {
     "frozen": true
    }
   },
   "source": [
    "To load an image without defining a recipe, we need to list the **paths** of the different layers to stack together, in the right order."
   ]
  },
  {
   "cell_type": "code",
   "execution_count": 10,
   "metadata": {
    "ExecuteTime": {
     "end_time": "2020-05-04T11:04:34.505290Z",
     "start_time": "2020-05-04T11:04:34.460543Z"
    },
    "deletable": false,
    "editable": false,
    "run_control": {
     "frozen": true
    }
   },
   "outputs": [
    {
     "name": "stdout",
     "output_type": "stream",
     "text": [
      "\r",
      " shape: (1, 2, 23, 650, 500)\n",
      "\r",
      " dtype: uint16\n"
     ]
    }
   ],
   "source": [
    "# list paths. of the files to stack\n",
    "path_dapi = os.path.join(path_input, \"experiment_1_dapi_fov_1.tif\")\n",
    "path_smfish = os.path.join(path_input, \"experiment_1_smfish_fov_1.tif\")\n",
    "paths = [path_dapi, path_smfish]\n",
    "\n",
    "# load the layers and build the image\n",
    "image = stack.build_stack_no_recipe(paths)\n",
    "print(\"\\r shape: {0}\".format(image.shape))\n",
    "print(\"\\r dtype: {0}\".format(image.dtype))"
   ]
  },
  {
   "cell_type": "markdown",
   "metadata": {
    "deletable": false,
    "editable": false,
    "run_control": {
     "frozen": true
    }
   },
   "source": [
    "## Read and write arrays"
   ]
  },
  {
   "cell_type": "markdown",
   "metadata": {
    "deletable": false,
    "editable": false,
    "run_control": {
     "frozen": true
    }
   },
   "source": [
    "If you do not need to read different layers and rearrange them in a specific order, you can directly read files from their path:\n",
    "- for *.png*, *.jpg*, *.jpeg*, *.tif* or *.tiff* extensions use `bigfish.stack.read_image`\n",
    "- for *.dv* extension use `bigfish.stack.read_dv`\n",
    "- for *.npy* extension use `bigfish.stack.read_array`\n",
    "- for *.npz* extension use `bigfish.stack.read_compressed`\n",
    "- for *.csv* extension use `bigfish.stack.read_array_from_csv`"
   ]
  },
  {
   "cell_type": "code",
   "execution_count": 11,
   "metadata": {
    "ExecuteTime": {
     "end_time": "2020-05-04T11:04:34.522480Z",
     "start_time": "2020-05-04T11:04:34.506926Z"
    },
    "deletable": false,
    "editable": false,
    "run_control": {
     "frozen": true
    }
   },
   "outputs": [
    {
     "name": "stdout",
     "output_type": "stream",
     "text": [
      "\r",
      " shape: (23, 650, 500)\n",
      "\r",
      " dtype: uint16\n"
     ]
    }
   ],
   "source": [
    "path_dapi = os.path.join(path_input, \"experiment_1_dapi_fov_1.tif\")\n",
    "image = stack.read_image(path_dapi)\n",
    "print(\"\\r shape: {0}\".format(image.shape))\n",
    "print(\"\\r dtype: {0}\".format(image.dtype))"
   ]
  },
  {
   "cell_type": "markdown",
   "metadata": {
    "deletable": false,
    "editable": false,
    "run_control": {
     "frozen": true
    }
   },
   "source": [
    "Same logic if you want to save images or arrays:\n",
    "- for *.png*, *.jpg*, *.jpeg*, *.tif* or *.tiff* extensions use `bigfish.stack.save_image`\n",
    "- for *.npy* extension use `bigfish.stack.save_array`\n",
    "- for *.csv* extension use `bigfish.stack.save_array_to_csv`"
   ]
  }
 ],
 "metadata": {
  "kernelspec": {
   "display_name": "Python 3.7.6 64-bit ('fq-imjoy': conda)",
   "language": "python",
   "name": "python37664bitfqimjoyconda470d5dc4602941de8ec885334616759e"
  },
  "language_info": {
   "codemirror_mode": {
    "name": "ipython",
    "version": 3
   },
   "file_extension": ".py",
   "mimetype": "text/x-python",
   "name": "python",
   "nbconvert_exporter": "python",
   "pygments_lexer": "ipython3",
   "version": "3.7.6-final"
  }
 },
 "nbformat": 4,
 "nbformat_minor": 2
}